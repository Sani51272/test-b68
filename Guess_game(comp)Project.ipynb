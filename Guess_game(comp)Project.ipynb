{
  "nbformat": 4,
  "nbformat_minor": 0,
  "metadata": {
    "colab": {
      "provenance": [],
      "authorship_tag": "ABX9TyMr4NJ4fuEcFRO+DBY09ryW",
      "include_colab_link": true
    },
    "kernelspec": {
      "name": "python3",
      "display_name": "Python 3"
    },
    "language_info": {
      "name": "python"
    }
  },
  "cells": [
    {
      "cell_type": "markdown",
      "metadata": {
        "id": "view-in-github",
        "colab_type": "text"
      },
      "source": [
        "<a href=\"https://colab.research.google.com/github/Sani51272/test-b68/blob/main/Guess_game(comp)Project.ipynb\" target=\"_parent\"><img src=\"https://colab.research.google.com/assets/colab-badge.svg\" alt=\"Open In Colab\"/></a>"
      ]
    },
    {
      "cell_type": "code",
      "source": [
        "import random\n",
        "\n",
        "# Generate a random number between 1 and 5\n",
        "random_number = random.randint(1, 5)\n",
        "\n",
        "# Initialize variables\n",
        "tries = 0\n",
        "\n",
        "print(\"Welcome to the Number Guessing Game!\")\n",
        "print(\"I have guessed a number between 1 and 5. Can you guess it?\")\n",
        "\n",
        "# Game loop\n",
        "while True:\n",
        "    try:\n",
        "        # Prompt user for a guess\n",
        "        user_guess = int(input(\"Enter your guess: \"))\n",
        "        tries += 1  # Increment tries\n",
        "\n",
        "        # Check the guess\n",
        "        if user_guess < random_number:\n",
        "            print(\"Too low! Try again.\")\n",
        "        elif user_guess > random_number:\n",
        "            print(\"Too high! Try again.\")\n",
        "        else:\n",
        "            print(f\"Congratulations! You guessed the number {random_number} correctly.\")\n",
        "            print(f\"It took you {tries} tries.\")\n",
        "            break  # Exit the loop when the user guesses correctly\n",
        "    except ValueError:\n",
        "        print(\"Invalid input. Please enter a number between 1 and 5.\")"
      ],
      "metadata": {
        "colab": {
          "base_uri": "https://localhost:8080/"
        },
        "id": "VBFlu9TuJmv8",
        "outputId": "a872ad52-113b-4b74-e293-eedc2f2fa441"
      },
      "execution_count": 1,
      "outputs": [
        {
          "output_type": "stream",
          "name": "stdout",
          "text": [
            "Welcome to the Number Guessing Game!\n",
            "I have guessed a number between 1 and 5. Can you guess it?\n",
            "Enter your guess:  3\n",
            "Too low! Try again.\n",
            "Enter your guess:  5\n",
            "Too high! Try again.\n",
            "Enter your guess:  4\n",
            "Congratulations! You guessed the number 4 correctly.\n",
            "It took you 3 tries.\n"
          ]
        }
      ]
    }
  ]
}