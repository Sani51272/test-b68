{
  "nbformat": 4,
  "nbformat_minor": 0,
  "metadata": {
    "colab": {
      "provenance": [],
      "authorship_tag": "ABX9TyPUPjSedvS1zGpsUP7QAwZA",
      "include_colab_link": true
    },
    "kernelspec": {
      "name": "python3",
      "display_name": "Python 3"
    },
    "language_info": {
      "name": "python"
    }
  },
  "cells": [
    {
      "cell_type": "markdown",
      "metadata": {
        "id": "view-in-github",
        "colab_type": "text"
      },
      "source": [
        "<a href=\"https://colab.research.google.com/github/Sani51272/test-b68/blob/main/Password_Generator_Project.ipynb\" target=\"_parent\"><img src=\"https://colab.research.google.com/assets/colab-badge.svg\" alt=\"Open In Colab\"/></a>"
      ]
    },
    {
      "cell_type": "code",
      "source": [
        "import random\n",
        "\n",
        "print(\"Welcome to Password Generator!\")\n",
        "\n",
        "chars = \"ABCDEFGHIJKLMNOPQRSTUVWXYZabcdefghijklmnopqrstuvwxyz0123456789<>,.\\/!@#$%^&*\"\n",
        "\n",
        "number = int(input(\"How many Passwords do you need?\"))\n",
        "length = int(input(\"Enter the passwords length you want:\"))\n",
        "\n",
        "print(\"These are the generated passwords:\")\n",
        "\n",
        "for i in range(number):\n",
        "  password = ''\n",
        "  for c in range(length):\n",
        "    password += random.choice(chars)\n",
        "  print(f\"{i+1}. {password}\")"
      ],
      "metadata": {
        "id": "R6d6ic_qJ1tR"
      },
      "execution_count": null,
      "outputs": []
    }
  ]
}