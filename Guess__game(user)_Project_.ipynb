{
  "nbformat": 4,
  "nbformat_minor": 0,
  "metadata": {
    "colab": {
      "provenance": [],
      "authorship_tag": "ABX9TyOtF7czT2KeJqVeR1pG8KeK",
      "include_colab_link": true
    },
    "kernelspec": {
      "name": "python3",
      "display_name": "Python 3"
    },
    "language_info": {
      "name": "python"
    }
  },
  "cells": [
    {
      "cell_type": "markdown",
      "metadata": {
        "id": "view-in-github",
        "colab_type": "text"
      },
      "source": [
        "<a href=\"https://colab.research.google.com/github/Sani51272/test-b68/blob/main/Guess__game(user)_Project_.ipynb\" target=\"_parent\"><img src=\"https://colab.research.google.com/assets/colab-badge.svg\" alt=\"Open In Colab\"/></a>"
      ]
    },
    {
      "cell_type": "code",
      "source": [
        "import random\n",
        "\n",
        "def guess_game():\n",
        "  guess_number = random.randint(1, 50)\n",
        "  attempts = 0\n",
        "\n",
        "  print(\"Welcome to the Guessing Game.\")\n",
        "  print(\"I have selected a number.Try to guess it!\")\n",
        "  print(\"Let's check if you can guess it correctly...\")\n",
        "\n",
        "  while True:\n",
        "      try:\n",
        "          user_guess = int(input(\"Enter your guess:\"))\n",
        "          attempts +=1\n",
        "          if user_guess < 1 or user_guess > 50:\n",
        "            print(\"Out of range! Please enter a number between 1 and 50.\")\n",
        "          elif user_guess < guess_number:\n",
        "             print(\"Too low,Try again!\")\n",
        "          elif user_guess > guess_number:\n",
        "            print(\"Too high,Try again!\")\n",
        "          else:\n",
        "            print(f\"Congratulations! You guessed the number {guess_number} in {attempts} attempts.\")\n",
        "            break\n",
        "\n",
        "      except ValueError:\n",
        "        print(\"Invalid input! Please enter a valid number.\")\n",
        "\n",
        "guess_game()\n",
        "\n",
        "\n"
      ],
      "metadata": {
        "id": "L188kfVgvwpt"
      },
      "execution_count": null,
      "outputs": []
    }
  ]
}