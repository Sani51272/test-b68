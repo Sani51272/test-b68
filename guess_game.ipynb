{
 "cells": [
  {
   "cell_type": "code",
   "execution_count": 3,
   "metadata": {},
   "outputs": [
    {
     "name": "stdout",
     "output_type": "stream",
     "text": [
      "Welcome to the Number Guessing Game!\n",
      "I have guessed a number between 1 and 5. Can you guess it?\n",
      "Too high! Try again.\n",
      "Too high! Try again.\n",
      "Congratulations! You guessed the number 1 correctly.\n",
      "It took you 3 tries.\n"
     ]
    }
   ],
   "source": [
    "import random\n",
    "\n",
    "# Generate a random number between 1 and 5\n",
    "random_number = random.randint(1, 5)\n",
    "\n",
    "# Initialize variables\n",
    "tries = 0\n",
    "\n",
    "print(\"Welcome to the Number Guessing Game!\")\n",
    "print(\"I have guessed a number between 1 and 5. Can you guess it?\")\n",
    "\n",
    "# Game loop\n",
    "while True:\n",
    "    try:\n",
    "        # Prompt user for a guess\n",
    "        user_guess = int(input(\"Enter your guess: \"))\n",
    "        tries += 1  # Increment tries\n",
    "\n",
    "        # Check the guess\n",
    "        if user_guess < random_number:\n",
    "            print(\"Too low! Try again.\")\n",
    "        elif user_guess > random_number:\n",
    "            print(\"Too high! Try again.\")\n",
    "        else:\n",
    "            print(f\"Congratulations! You guessed the number {random_number} correctly.\")\n",
    "            print(f\"It took you {tries} tries.\")\n",
    "            break  # Exit the loop when the user guesses correctly\n",
    "    except ValueError:\n",
    "        print(\"Invalid input. Please enter a number between 1 and 5.\")"
   ]
  }
 ],
 "metadata": {
  "kernelspec": {
   "display_name": "Python 3",
   "language": "python",
   "name": "python3"
  },
  "language_info": {
   "codemirror_mode": {
    "name": "ipython",
    "version": 3
   },
   "file_extension": ".py",
   "mimetype": "text/x-python",
   "name": "python",
   "nbconvert_exporter": "python",
   "pygments_lexer": "ipython3",
   "version": "3.12.9"
  },
  "orig_nbformat": 4
 },
 "nbformat": 4,
 "nbformat_minor": 2
}
