{
  "nbformat": 4,
  "nbformat_minor": 0,
  "metadata": {
    "colab": {
      "provenance": [],
      "authorship_tag": "ABX9TyOpGhvfyUAmDIsVpVVx/oNs",
      "include_colab_link": true
    },
    "kernelspec": {
      "name": "python3",
      "display_name": "Python 3"
    },
    "language_info": {
      "name": "python"
    }
  },
  "cells": [
    {
      "cell_type": "markdown",
      "metadata": {
        "id": "view-in-github",
        "colab_type": "text"
      },
      "source": [
        "<a href=\"https://colab.research.google.com/github/Sani51272/test-b68/blob/main/Countdown_Timer_Python_ipynb.ipynb\" target=\"_parent\"><img src=\"https://colab.research.google.com/assets/colab-badge.svg\" alt=\"Open In Colab\"/></a>"
      ]
    },
    {
      "cell_type": "code",
      "source": [
        "import time\n",
        "from IPython.display import clear_output\n",
        "\n",
        "def countdown_timer(t):\n",
        "    while t:\n",
        "        mins, secs = divmod(t, 60)\n",
        "        timer = '{:02d}:{:02d}'.format(mins, secs)\n",
        "        clear_output(wait=True)\n",
        "        print(f'Countdown: {timer}')\n",
        "        time.sleep(1)\n",
        "        t -= 1\n",
        "\n",
        "    clear_output(wait=True)\n",
        "    print(\" Time's up!\")\n",
        "\n",
        "# Example usage\n",
        "countdown_time = int(input(\"Enter countdown time in seconds: \"))\n",
        "countdown_timer(countdown_time)"
      ],
      "metadata": {
        "id": "Sdx31RVpybd3"
      },
      "execution_count": null,
      "outputs": []
    }
  ]
}