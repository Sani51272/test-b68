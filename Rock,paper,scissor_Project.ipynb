{
  "nbformat": 4,
  "nbformat_minor": 0,
  "metadata": {
    "colab": {
      "provenance": [],
      "authorship_tag": "ABX9TyOfIokbkhMq1HBzPsO9sjtv",
      "include_colab_link": true
    },
    "kernelspec": {
      "name": "python3",
      "display_name": "Python 3"
    },
    "language_info": {
      "name": "python"
    }
  },
  "cells": [
    {
      "cell_type": "markdown",
      "metadata": {
        "id": "view-in-github",
        "colab_type": "text"
      },
      "source": [
        "<a href=\"https://colab.research.google.com/github/Sani51272/test-b68/blob/main/Rock%2Cpaper%2Cscissor_Project.ipynb\" target=\"_parent\"><img src=\"https://colab.research.google.com/assets/colab-badge.svg\" alt=\"Open In Colab\"/></a>"
      ]
    },
    {
      "cell_type": "code",
      "source": [
        "import random\n",
        "\n",
        "def play():\n",
        "    user = input(\"Enter 'r' for rock, 'p' for paper, 's' for scissors: \").strip().lower()\n",
        "\n",
        "    if user not in ['r', 'p', 's']:\n",
        "        return \"Invalid input! Please enter 'r', 'p', or 's'.\"\n",
        "\n",
        "    computer = random.choice(['r', 'p', 's'])\n",
        "    print(f\"Computer choice: {computer}\")\n",
        "\n",
        "    return determine_winner(user, computer)\n",
        "\n",
        "def determine_winner(user, computer):\n",
        "    if user == computer:\n",
        "        return \"It's a tie!\"\n",
        "    elif (user == 'r' and computer == 's') or \\\n",
        "         (user == 'p' and computer == 'r') or \\\n",
        "         (user == 's' and computer == 'p'):\n",
        "        return \"You Win!\"\n",
        "    else:\n",
        "        return \"Computer wins!\"\n",
        "\n",
        "# Start the game\n",
        "print(play())"
      ],
      "metadata": {
        "id": "uJM3t4G2tYvu"
      },
      "execution_count": null,
      "outputs": []
    }
  ]
}