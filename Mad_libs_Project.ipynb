{
  "nbformat": 4,
  "nbformat_minor": 0,
  "metadata": {
    "colab": {
      "provenance": [],
      "authorship_tag": "ABX9TyOil9yScUTxHjP5XmPPUAM1",
      "include_colab_link": true
    },
    "kernelspec": {
      "name": "python3",
      "display_name": "Python 3"
    },
    "language_info": {
      "name": "python"
    }
  },
  "cells": [
    {
      "cell_type": "markdown",
      "metadata": {
        "id": "view-in-github",
        "colab_type": "text"
      },
      "source": [
        "<a href=\"https://colab.research.google.com/github/Sani51272/test-b68/blob/main/Mad_libs_Project.ipynb\" target=\"_parent\"><img src=\"https://colab.research.google.com/assets/colab-badge.svg\" alt=\"Open In Colab\"/></a>"
      ]
    },
    {
      "cell_type": "code",
      "execution_count": 4,
      "metadata": {
        "id": "RaRlUq6KB6rC",
        "colab": {
          "base_uri": "https://localhost:8080/"
        },
        "outputId": "73a23314-0065-44c3-ed65-4aeea3444358"
      },
      "outputs": [
        {
          "output_type": "stream",
          "name": "stdout",
          "text": [
            "Enter your name: Sani Zahra\n",
            "Enter an adjective: passionate\n",
            "Enter a profession: coder\n",
            "Enter your favourite_activity: coding\n",
            "Enter a positive emotion: ecstatic\n",
            "Enter a negative emotion: annoyed\n",
            "\n",
            " Mad libs Story:\n",
            "\n",
            "Hi, I'm Sani Zahra, a passionate coder.\n",
            "I absolutely love coding until my work runs perfectly.\n",
            "When everything works seamlessly, I feel soo ecstatic!\n",
            "But whenver i get any complexity, I just feel annoyed and want to quit...\n",
            "until I fix it, of course! \n",
            "\n"
          ]
        }
      ],
      "source": [
        "#Madlibs code\n",
        "name = input(\"Enter your name:\")\n",
        "adjective = input(\"Enter an adjective:\")\n",
        "profession = input(\"Enter a profession:\")\n",
        "favourite_activity = input(\"Enter your favourite_activity:\")\n",
        "emotion_success = input(\"Enter a positive emotion:\")\n",
        "emotion_disappointment = input(\"Enter a negative emotion:\")\n",
        "\n",
        "madlibs = f\"\"\"\n",
        "Hi, I'm{name}, a{adjective}{profession}.\n",
        "I absolutely love{favourite_activity} until my work runs perfectly.\n",
        "When everything works seamlessly, I feel soo{emotion_success}!\n",
        "But whenver i get any complexity, I just feel{emotion_disappointment} and want \\\n",
        "to quit...\n",
        "until I fix it, of course!\n",
        "\"\"\"\n",
        "print(\"\\n Mad libs Story:\")\n",
        "print(madlibs)"
      ]
    }
  ]
}