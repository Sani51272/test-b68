{
  "nbformat": 4,
  "nbformat_minor": 0,
  "metadata": {
    "colab": {
      "provenance": [],
      "authorship_tag": "ABX9TyNWTpyeHVsHG+673FZ7P9wV",
      "include_colab_link": true
    },
    "kernelspec": {
      "name": "python3",
      "display_name": "Python 3"
    },
    "language_info": {
      "name": "python"
    }
  },
  "cells": [
    {
      "cell_type": "markdown",
      "metadata": {
        "id": "view-in-github",
        "colab_type": "text"
      },
      "source": [
        "<a href=\"https://colab.research.google.com/github/Sani51272/test-b68/blob/main/Hangman_Project.ipynb\" target=\"_parent\"><img src=\"https://colab.research.google.com/assets/colab-badge.svg\" alt=\"Open In Colab\"/></a>"
      ]
    },
    {
      "cell_type": "code",
      "execution_count": null,
      "metadata": {
        "id": "Qlh85DLX3K0q"
      },
      "outputs": [],
      "source": [
        "import random\n",
        "\n",
        "def choose_word():\n",
        "    words = [\"python\", \"hangman\", \"computer\", \"programming\", \"developer\"]\n",
        "    return random.choice(words)\n",
        "\n",
        "def display_word(word, guessed_letters):\n",
        "    return \" \".join([letter if letter in guessed_letters else \"_\" for letter in word])\n",
        "\n",
        "def hangman():\n",
        "    word = choose_word()\n",
        "    guessed_letters = set()\n",
        "    attempts = 6  # Number of wrong attempts allowed\n",
        "\n",
        "    print(\"Welcome to Hangman!\")\n",
        "\n",
        "    while attempts > 0:\n",
        "        print(\"\\nWord:\", display_word(word, guessed_letters))\n",
        "        print(f\"Attempts left: {attempts}\")\n",
        "        guess = input(\"Guess a letter: \").lower()\n",
        "\n",
        "        if guess in guessed_letters:\n",
        "            print(\"You've already guessed this letter!\")\n",
        "            continue\n",
        "\n",
        "        guessed_letters.add(guess)\n",
        "\n",
        "        if guess in word:\n",
        "            print(\"Good job! Letter is in the word.\")\n",
        "        else:\n",
        "            print(\"Wrong guess!Try again.\")\n",
        "            attempts -= 1\n",
        "\n",
        "        # Check if the player has guessed the entire word\n",
        "        if all(letter in guessed_letters for letter in word):\n",
        "            print(f\"\\nCongratulations! You guessed the word: {word} correctly\")\n",
        "            return\n",
        "\n",
        "    print(f\"\\nGame Over! The word was: {word}\")\n",
        "\n",
        "hangman()"
      ]
    }
  ]
}
